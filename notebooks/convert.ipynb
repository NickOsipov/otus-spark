{
 "cells": [
  {
   "cell_type": "markdown",
   "id": "76c5523a",
   "metadata": {},
   "source": [
    "# Подготовка данных"
   ]
  },
  {
   "cell_type": "markdown",
   "id": "ad83f483",
   "metadata": {},
   "source": [
    "## Считаем данные в исходном csv формате"
   ]
  },
  {
   "cell_type": "code",
   "execution_count": 1,
   "id": "fb571278",
   "metadata": {},
   "outputs": [
    {
     "name": "stdout",
     "output_type": "stream",
     "text": [
      "Defaulting to user installation because normal site-packages is not writeable\n",
      "Requirement already satisfied: findspark in ./.local/lib/python3.8/site-packages (2.0.1)\n"
     ]
    }
   ],
   "source": [
    "!pip install findspark"
   ]
  },
  {
   "cell_type": "markdown",
   "id": "4aea29b7",
   "metadata": {},
   "source": [
    "Перезапустить kernel после установки!"
   ]
  },
  {
   "cell_type": "code",
   "execution_count": 2,
   "id": "dbd680b3",
   "metadata": {},
   "outputs": [],
   "source": [
    "import findspark\n",
    "findspark.init()"
   ]
  },
  {
   "cell_type": "code",
   "execution_count": 3,
   "id": "8582f495",
   "metadata": {},
   "outputs": [
    {
     "name": "stdout",
     "output_type": "stream",
     "text": [
      "Found 1 items\n",
      "drwxr-xr-x   - ubuntu hadoop          0 2025-05-30 18:51 data\n"
     ]
    }
   ],
   "source": [
    "!hdfs dfs -ls"
   ]
  },
  {
   "cell_type": "code",
   "execution_count": 9,
   "id": "61924a77",
   "metadata": {},
   "outputs": [
    {
     "name": "stdout",
     "output_type": "stream",
     "text": [
      "Found 5 items\n",
      "-rw-r--r--   1 ubuntu hadoop 3136657969 2025-05-30 18:51 data/2022-11-04.txt\n",
      "-rw-r--r--   1 ubuntu hadoop       9703 2025-05-30 18:50 data/lectures.csv\n",
      "-rw-r--r--   1 ubuntu hadoop     296161 2025-05-30 18:50 data/questions.csv\n",
      "drwxr-xr-x   - ubuntu hadoop          0 2025-05-30 18:56 data/train.parquet\n",
      "-rw-r--r--   1 ubuntu hadoop   53700464 2025-05-30 18:50 data/train_1000k.csv\n"
     ]
    }
   ],
   "source": [
    "!hdfs dfs -ls data"
   ]
  },
  {
   "cell_type": "markdown",
   "id": "b353884b",
   "metadata": {},
   "source": [
    "Создадим SparkSession"
   ]
  },
  {
   "cell_type": "code",
   "execution_count": 5,
   "id": "5a851f7c",
   "metadata": {},
   "outputs": [],
   "source": [
    "from pyspark.sql import SparkSession\n",
    "\n",
    "spark = (\n",
    "    SparkSession\n",
    "        .builder\n",
    "        .appName(\"OTUS\")\n",
    "        .getOrCreate()\n",
    ")"
   ]
  },
  {
   "cell_type": "markdown",
   "id": "af7d9429",
   "metadata": {},
   "source": [
    "Загрузим данные"
   ]
  },
  {
   "cell_type": "code",
   "execution_count": 6,
   "id": "f6b5fb82",
   "metadata": {},
   "outputs": [],
   "source": [
    "df = spark.read.csv(\"data/train_1000k.csv\", inferSchema=True, header=True)"
   ]
  },
  {
   "cell_type": "markdown",
   "id": "ed116eb1",
   "metadata": {},
   "source": [
    "Поделим данные на 10 разделов и сохраним в формате parquete"
   ]
  },
  {
   "cell_type": "code",
   "execution_count": 7,
   "id": "c61e2248",
   "metadata": {},
   "outputs": [
    {
     "name": "stdout",
     "output_type": "stream",
     "text": [
      "CPU times: user 3.82 ms, sys: 497 µs, total: 4.32 ms\n",
      "Wall time: 1.13 s\n"
     ]
    },
    {
     "data": {
      "text/plain": [
       "1000000"
      ]
     },
     "execution_count": 7,
     "metadata": {},
     "output_type": "execute_result"
    }
   ],
   "source": [
    "%%time\n",
    "df.count()"
   ]
  },
  {
   "cell_type": "code",
   "execution_count": 8,
   "id": "2ee16ab2",
   "metadata": {},
   "outputs": [],
   "source": [
    "(\n",
    "    df\n",
    "        .repartition(10)\n",
    "        .write\n",
    "        .mode(\"overwrite\")\n",
    "        .parquet(\"data/train.parquet\")\n",
    ")"
   ]
  },
  {
   "cell_type": "markdown",
   "id": "cc5b5e8f",
   "metadata": {},
   "source": [
    "Проверим размер сохраненного файла"
   ]
  },
  {
   "cell_type": "code",
   "execution_count": 10,
   "id": "5dae6028",
   "metadata": {},
   "outputs": [
    {
     "name": "stdout",
     "output_type": "stream",
     "text": [
      "Found 11 items\n",
      "-rw-r--r--   1 ubuntu hadoop          0 2025-05-30 18:56 data/train.parquet/_SUCCESS\n",
      "-rw-r--r--   1 ubuntu hadoop      1.8 M 2025-05-30 18:56 data/train.parquet/part-00000-0d1c3d83-6870-4066-899a-0fe0198c2da0-c000.snappy.parquet\n",
      "-rw-r--r--   1 ubuntu hadoop      1.8 M 2025-05-30 18:56 data/train.parquet/part-00001-0d1c3d83-6870-4066-899a-0fe0198c2da0-c000.snappy.parquet\n",
      "-rw-r--r--   1 ubuntu hadoop      1.8 M 2025-05-30 18:56 data/train.parquet/part-00002-0d1c3d83-6870-4066-899a-0fe0198c2da0-c000.snappy.parquet\n",
      "-rw-r--r--   1 ubuntu hadoop      1.8 M 2025-05-30 18:56 data/train.parquet/part-00003-0d1c3d83-6870-4066-899a-0fe0198c2da0-c000.snappy.parquet\n",
      "-rw-r--r--   1 ubuntu hadoop      1.8 M 2025-05-30 18:56 data/train.parquet/part-00004-0d1c3d83-6870-4066-899a-0fe0198c2da0-c000.snappy.parquet\n",
      "-rw-r--r--   1 ubuntu hadoop      1.8 M 2025-05-30 18:56 data/train.parquet/part-00005-0d1c3d83-6870-4066-899a-0fe0198c2da0-c000.snappy.parquet\n",
      "-rw-r--r--   1 ubuntu hadoop      1.8 M 2025-05-30 18:56 data/train.parquet/part-00006-0d1c3d83-6870-4066-899a-0fe0198c2da0-c000.snappy.parquet\n",
      "-rw-r--r--   1 ubuntu hadoop      1.8 M 2025-05-30 18:56 data/train.parquet/part-00007-0d1c3d83-6870-4066-899a-0fe0198c2da0-c000.snappy.parquet\n",
      "-rw-r--r--   1 ubuntu hadoop      1.8 M 2025-05-30 18:56 data/train.parquet/part-00008-0d1c3d83-6870-4066-899a-0fe0198c2da0-c000.snappy.parquet\n",
      "-rw-r--r--   1 ubuntu hadoop      1.8 M 2025-05-30 18:56 data/train.parquet/part-00009-0d1c3d83-6870-4066-899a-0fe0198c2da0-c000.snappy.parquet\n"
     ]
    }
   ],
   "source": [
    "!hdfs dfs -ls -h data/train.parquet"
   ]
  },
  {
   "cell_type": "markdown",
   "id": "76e2e9e6",
   "metadata": {},
   "source": [
    "Сравним скорость посчета строк из parquet"
   ]
  },
  {
   "cell_type": "code",
   "execution_count": 11,
   "id": "1f5332d6",
   "metadata": {},
   "outputs": [],
   "source": [
    "df_from_parquet = spark.read.parquet(\"data/train.parquet\")"
   ]
  },
  {
   "cell_type": "code",
   "execution_count": 12,
   "id": "f983a7e9",
   "metadata": {},
   "outputs": [
    {
     "name": "stdout",
     "output_type": "stream",
     "text": [
      "CPU times: user 0 ns, sys: 2.04 ms, total: 2.04 ms\n",
      "Wall time: 496 ms\n"
     ]
    },
    {
     "data": {
      "text/plain": [
       "1000000"
      ]
     },
     "execution_count": 12,
     "metadata": {},
     "output_type": "execute_result"
    }
   ],
   "source": [
    "%%time\n",
    "df_from_parquet.count()"
   ]
  },
  {
   "cell_type": "code",
   "execution_count": 13,
   "id": "6e98217c",
   "metadata": {},
   "outputs": [
    {
     "name": "stdout",
     "output_type": "stream",
     "text": [
      "+------+-----------+--------+----------+---------------+-----------------+-----------+------------------+---------------------------+------------------------------+\n",
      "|row_id|  timestamp| user_id|content_id|content_type_id|task_container_id|user_answer|answered_correctly|prior_question_elapsed_time|prior_question_had_explanation|\n",
      "+------+-----------+--------+----------+---------------+-----------------+-----------+------------------+---------------------------+------------------------------+\n",
      "| 62896|   96541616| 1400354|      1087|              0|               94|          3|                 0|                    17000.0|                         false|\n",
      "|104413|   21162902| 2211492|      5262|              0|               95|          0|                 1|                    11000.0|                          true|\n",
      "|537225|    4538020|10854346|      7880|              0|               26|          1|                 1|                    30000.0|                          true|\n",
      "|158202|      95544| 3237407|      1278|              0|                3|          0|                 0|                    23000.0|                         false|\n",
      "| 75576|45311590335| 1567938|       768|              0|             1665|          0|                 1|                    17000.0|                          true|\n",
      "| 66732|17442041210| 1440282|      8340|              0|             3064|          2|                 0|                    15000.0|                          true|\n",
      "|256332| 1868941165| 4742725|      8750|              0|             4144|          0|                 0|                    14000.0|                          true|\n",
      "|539919| 3904128913|10938316|      5986|              0|              596|          0|                 1|                    12000.0|                          true|\n",
      "| 61801| 8203657701| 1308136|      1289|              0|               20|          3|                 1|                    19000.0|                          true|\n",
      "|524048| 2489081997|10353031|      5262|              0|              195|          0|                 1|                    24000.0|                          true|\n",
      "|384282|      28883| 7364231|      7876|              0|                1|          2|                 0|                    39000.0|                         false|\n",
      "|487669|39830318203| 9418512|      3263|              0|             3953|          1|                 1|                    16000.0|                          true|\n",
      "|445126|41193993902| 8994317|      1342|              0|               32|          0|                 1|                    19000.0|                          true|\n",
      "|233300|11303643627| 4421282|      9091|              0|             3581|          3|                 1|                    29000.0|                          true|\n",
      "|424989| 6395036808| 8450063|      5179|              0|             1079|          2|                 0|                    19000.0|                          true|\n",
      "|192487|25881734123| 3901202|      6412|              0|              196|          1|                 1|                    35000.0|                          true|\n",
      "| 32907|   51626747|  804652|      6173|              0|               12|          0|                 0|                    21000.0|                         false|\n",
      "|345461| 5677286644| 6685611|      4748|              0|              379|          0|                 1|                    19000.0|                          true|\n",
      "|150306|  178679313| 3203826|     10080|              0|               43|          3|                 0|                    32750.0|                          true|\n",
      "| 26496|  528222817|  475020|      5350|              0|              408|          2|                 1|                    24000.0|                          true|\n",
      "+------+-----------+--------+----------+---------------+-----------------+-----------+------------------+---------------------------+------------------------------+\n",
      "only showing top 20 rows\n",
      "\n"
     ]
    }
   ],
   "source": [
    "df_from_parquet.show()"
   ]
  },
  {
   "cell_type": "code",
   "execution_count": null,
   "id": "182e365f",
   "metadata": {},
   "outputs": [],
   "source": []
  }
 ],
 "metadata": {
  "kernelspec": {
   "display_name": "Python 3",
   "language": "python",
   "name": "python3"
  },
  "language_info": {
   "codemirror_mode": {
    "name": "ipython",
    "version": 3
   },
   "file_extension": ".py",
   "mimetype": "text/x-python",
   "name": "python",
   "nbconvert_exporter": "python",
   "pygments_lexer": "ipython3",
   "version": "3.8.10"
  }
 },
 "nbformat": 4,
 "nbformat_minor": 5
}
