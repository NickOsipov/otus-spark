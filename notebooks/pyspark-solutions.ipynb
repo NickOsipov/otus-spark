{
 "cells": [
  {
   "cell_type": "markdown",
   "id": "88bb5194",
   "metadata": {},
   "source": [
    "## Пример на pyspark\n",
    "\n",
    "В качестве набора данных для примера будем использовать данные конкурса про ответы студентов на тесты\n",
    "https://www.kaggle.com/c/riiid-test-answer-prediction"
   ]
  },
  {
   "cell_type": "markdown",
   "id": "a998f2be",
   "metadata": {},
   "source": [
    "При подключении к spark драйверу установим лимиты по памяти и по числу ядер. Также выберем номер порта для Spark UI"
   ]
  },
  {
   "cell_type": "markdown",
   "id": "e8712420",
   "metadata": {},
   "source": [
    "Нужно выбрать уникальное имя приложения и номер порта, чтобы не войти в коллизию с другими пользователями"
   ]
  },
  {
   "cell_type": "code",
   "execution_count": 1,
   "id": "1f649736",
   "metadata": {},
   "outputs": [
    {
     "name": "stdout",
     "output_type": "stream",
     "text": [
      "Populating the interactive namespace from numpy and matplotlib\n"
     ]
    }
   ],
   "source": [
    "%pylab inline\n",
    "import pandas as pd\n",
    "import numpy as np"
   ]
  },
  {
   "cell_type": "code",
   "execution_count": null,
   "id": "74a7614c",
   "metadata": {},
   "outputs": [],
   "source": [
    "import findspark\n",
    "findspark.init()"
   ]
  },
  {
   "cell_type": "code",
   "execution_count": 3,
   "id": "aad8578c",
   "metadata": {},
   "outputs": [],
   "source": [
    "from pyspark.sql import SparkSession\n",
    "\n",
    "spark = (\n",
    "    SparkSession\n",
    "        .builder\n",
    "        .appName(\"OTUS-Solution\")\n",
    "        # .config(\"spark.dynamicAllocation.enabled\", \"true\")\n",
    "        # .config(\"spark.executor.memory\", \"2g\")\n",
    "        # .config(\"spark.driver.memory\", \"1g\")\n",
    "        .getOrCreate()\n",
    ")"
   ]
  },
  {
   "cell_type": "markdown",
   "id": "68ec076d",
   "metadata": {},
   "source": [
    "Данные будем читать из заранее сконвертированного parquet"
   ]
  },
  {
   "cell_type": "code",
   "execution_count": 4,
   "id": "cdaeeca0",
   "metadata": {},
   "outputs": [],
   "source": [
    "riiid_df = spark.read.parquet(\"data/train.parquet\",)"
   ]
  },
  {
   "cell_type": "markdown",
   "id": "0e7c6c12",
   "metadata": {},
   "source": [
    "Схема данных и первые 10 записей"
   ]
  },
  {
   "cell_type": "code",
   "execution_count": 5,
   "id": "c5b7c8f2",
   "metadata": {},
   "outputs": [
    {
     "name": "stdout",
     "output_type": "stream",
     "text": [
      "root\n",
      " |-- row_id: integer (nullable = true)\n",
      " |-- timestamp: long (nullable = true)\n",
      " |-- user_id: integer (nullable = true)\n",
      " |-- content_id: integer (nullable = true)\n",
      " |-- content_type_id: integer (nullable = true)\n",
      " |-- task_container_id: integer (nullable = true)\n",
      " |-- user_answer: integer (nullable = true)\n",
      " |-- answered_correctly: integer (nullable = true)\n",
      " |-- prior_question_elapsed_time: double (nullable = true)\n",
      " |-- prior_question_had_explanation: boolean (nullable = true)\n",
      "\n"
     ]
    }
   ],
   "source": [
    "riiid_df.printSchema()"
   ]
  },
  {
   "cell_type": "code",
   "execution_count": 6,
   "id": "8ec75696",
   "metadata": {},
   "outputs": [
    {
     "data": {
      "text/html": [
       "<table border='1'>\n",
       "<tr><th>row_id</th><th>timestamp</th><th>user_id</th><th>content_id</th><th>content_type_id</th><th>task_container_id</th><th>user_answer</th><th>answered_correctly</th><th>prior_question_elapsed_time</th><th>prior_question_had_explanation</th></tr>\n",
       "<tr><td>62896</td><td>96541616</td><td>1400354</td><td>1087</td><td>0</td><td>94</td><td>3</td><td>0</td><td>17000.0</td><td>false</td></tr>\n",
       "<tr><td>104413</td><td>21162902</td><td>2211492</td><td>5262</td><td>0</td><td>95</td><td>0</td><td>1</td><td>11000.0</td><td>true</td></tr>\n",
       "<tr><td>537225</td><td>4538020</td><td>10854346</td><td>7880</td><td>0</td><td>26</td><td>1</td><td>1</td><td>30000.0</td><td>true</td></tr>\n",
       "<tr><td>158202</td><td>95544</td><td>3237407</td><td>1278</td><td>0</td><td>3</td><td>0</td><td>0</td><td>23000.0</td><td>false</td></tr>\n",
       "<tr><td>75576</td><td>45311590335</td><td>1567938</td><td>768</td><td>0</td><td>1665</td><td>0</td><td>1</td><td>17000.0</td><td>true</td></tr>\n",
       "<tr><td>66732</td><td>17442041210</td><td>1440282</td><td>8340</td><td>0</td><td>3064</td><td>2</td><td>0</td><td>15000.0</td><td>true</td></tr>\n",
       "<tr><td>256332</td><td>1868941165</td><td>4742725</td><td>8750</td><td>0</td><td>4144</td><td>0</td><td>0</td><td>14000.0</td><td>true</td></tr>\n",
       "<tr><td>539919</td><td>3904128913</td><td>10938316</td><td>5986</td><td>0</td><td>596</td><td>0</td><td>1</td><td>12000.0</td><td>true</td></tr>\n",
       "<tr><td>61801</td><td>8203657701</td><td>1308136</td><td>1289</td><td>0</td><td>20</td><td>3</td><td>1</td><td>19000.0</td><td>true</td></tr>\n",
       "<tr><td>524048</td><td>2489081997</td><td>10353031</td><td>5262</td><td>0</td><td>195</td><td>0</td><td>1</td><td>24000.0</td><td>true</td></tr>\n",
       "</table>\n"
      ],
      "text/plain": [
       "+------+-----------+--------+----------+---------------+-----------------+-----------+------------------+---------------------------+------------------------------+\n",
       "|row_id|  timestamp| user_id|content_id|content_type_id|task_container_id|user_answer|answered_correctly|prior_question_elapsed_time|prior_question_had_explanation|\n",
       "+------+-----------+--------+----------+---------------+-----------------+-----------+------------------+---------------------------+------------------------------+\n",
       "| 62896|   96541616| 1400354|      1087|              0|               94|          3|                 0|                    17000.0|                         false|\n",
       "|104413|   21162902| 2211492|      5262|              0|               95|          0|                 1|                    11000.0|                          true|\n",
       "|537225|    4538020|10854346|      7880|              0|               26|          1|                 1|                    30000.0|                          true|\n",
       "|158202|      95544| 3237407|      1278|              0|                3|          0|                 0|                    23000.0|                         false|\n",
       "| 75576|45311590335| 1567938|       768|              0|             1665|          0|                 1|                    17000.0|                          true|\n",
       "| 66732|17442041210| 1440282|      8340|              0|             3064|          2|                 0|                    15000.0|                          true|\n",
       "|256332| 1868941165| 4742725|      8750|              0|             4144|          0|                 0|                    14000.0|                          true|\n",
       "|539919| 3904128913|10938316|      5986|              0|              596|          0|                 1|                    12000.0|                          true|\n",
       "| 61801| 8203657701| 1308136|      1289|              0|               20|          3|                 1|                    19000.0|                          true|\n",
       "|524048| 2489081997|10353031|      5262|              0|              195|          0|                 1|                    24000.0|                          true|\n",
       "+------+-----------+--------+----------+---------------+-----------------+-----------+------------------+---------------------------+------------------------------+"
      ]
     },
     "execution_count": 6,
     "metadata": {},
     "output_type": "execute_result"
    }
   ],
   "source": [
    "spark.conf.set('spark.sql.repl.eagerEval.enabled', True)  # to pretty print pyspark.DataFrame in jupyter\n",
    "riiid_df.limit(10)"
   ]
  },
  {
   "cell_type": "markdown",
   "id": "38fa908b",
   "metadata": {},
   "source": [
    "Замерим время выполнения простых запросов с группировками"
   ]
  },
  {
   "cell_type": "code",
   "execution_count": 11,
   "id": "8dd4e938",
   "metadata": {},
   "outputs": [],
   "source": [
    "from pyspark.sql import functions as f\n",
    "from pyspark.sql.functions import col"
   ]
  },
  {
   "cell_type": "code",
   "execution_count": null,
   "id": "21c788dd",
   "metadata": {},
   "outputs": [
    {
     "name": "stdout",
     "output_type": "stream",
     "text": [
      "CPU times: user 64.7 ms, sys: 8.43 ms, total: 73.2 ms\n",
      "Wall time: 3.91 s\n"
     ]
    },
    {
     "data": {
      "application/vnd.microsoft.datawrangler.viewer.v0+json": {
       "columns": [
        {
         "name": "index",
         "rawType": "int64",
         "type": "integer"
        },
        {
         "name": "content_id",
         "rawType": "int32",
         "type": "integer"
        },
        {
         "name": "avg(answered_correctly)",
         "rawType": "float64",
         "type": "float"
        }
       ],
       "ref": "42d78e57-c6d1-4fdb-bdc0-a4dd447b671b",
       "rows": [
        [
         "0",
         "7880",
         "0.9291338582677166"
        ],
        [
         "1",
         "1342",
         "0.6612903225806451"
        ],
        [
         "2",
         "7993",
         "0.5454545454545454"
        ],
        [
         "3",
         "6466",
         "0.5365853658536586"
        ],
        [
         "4",
         "5300",
         "0.5394736842105263"
        ],
        [
         "5",
         "23336",
         "-1.0"
        ],
        [
         "6",
         "6397",
         "0.8181818181818182"
        ],
        [
         "7",
         "1088",
         "0.6382978723404256"
        ],
        [
         "8",
         "4818",
         "0.4282608695652174"
        ],
        [
         "9",
         "9852",
         "0.78"
        ],
        [
         "10",
         "11748",
         "0.9166666666666666"
        ],
        [
         "11",
         "10362",
         "0.9411764705882353"
        ],
        [
         "12",
         "1238",
         "0.56353591160221"
        ],
        [
         "13",
         "5156",
         "0.47388059701492535"
        ],
        [
         "14",
         "833",
         "0.9342105263157895"
        ],
        [
         "15",
         "8638",
         "0.47368421052631576"
        ],
        [
         "16",
         "2122",
         "0.6111111111111112"
        ],
        [
         "17",
         "9465",
         "0.49206349206349204"
        ],
        [
         "18",
         "4519",
         "0.45982142857142855"
        ],
        [
         "19",
         "6620",
         "0.7876712328767124"
        ],
        [
         "20",
         "471",
         "0.6842105263157895"
        ],
        [
         "21",
         "1959",
         "0.4523809523809524"
        ],
        [
         "22",
         "7982",
         "0.8793103448275862"
        ],
        [
         "23",
         "10206",
         "0.8873239436619719"
        ],
        [
         "24",
         "496",
         "0.7852760736196319"
        ],
        [
         "25",
         "5518",
         "0.775"
        ],
        [
         "26",
         "3918",
         "0.5633802816901409"
        ],
        [
         "27",
         "11858",
         "0.6944444444444444"
        ],
        [
         "28",
         "148",
         "0.8211382113821138"
        ],
        [
         "29",
         "10623",
         "0.9130434782608695"
        ],
        [
         "30",
         "1580",
         "0.7741935483870968"
        ],
        [
         "31",
         "3749",
         "0.6690647482014388"
        ],
        [
         "32",
         "8592",
         "0.44680851063829785"
        ],
        [
         "33",
         "4101",
         "0.75"
        ],
        [
         "34",
         "3997",
         "0.6153846153846154"
        ],
        [
         "35",
         "10817",
         "0.696969696969697"
        ],
        [
         "36",
         "2866",
         "0.975"
        ],
        [
         "37",
         "13289",
         "1.0"
        ],
        [
         "38",
         "11033",
         "0.7833333333333333"
        ],
        [
         "39",
         "2366",
         "0.5633802816901409"
        ],
        [
         "40",
         "3175",
         "0.9"
        ],
        [
         "41",
         "9376",
         "0.813953488372093"
        ],
        [
         "42",
         "1591",
         "0.8314606741573034"
        ],
        [
         "43",
         "7340",
         "0.8235294117647058"
        ],
        [
         "44",
         "4935",
         "0.6666666666666666"
        ],
        [
         "45",
         "6658",
         "0.6086956521739131"
        ],
        [
         "46",
         "3794",
         "0.6875"
        ],
        [
         "47",
         "11141",
         "0.8846153846153846"
        ],
        [
         "48",
         "7554",
         "0.8666666666666667"
        ],
        [
         "49",
         "6336",
         "0.7671232876712328"
        ]
       ],
       "shape": {
        "columns": 2,
        "rows": 13320
       }
      },
      "text/html": [
       "<div>\n",
       "<style scoped>\n",
       "    .dataframe tbody tr th:only-of-type {\n",
       "        vertical-align: middle;\n",
       "    }\n",
       "\n",
       "    .dataframe tbody tr th {\n",
       "        vertical-align: top;\n",
       "    }\n",
       "\n",
       "    .dataframe thead th {\n",
       "        text-align: right;\n",
       "    }\n",
       "</style>\n",
       "<table border=\"1\" class=\"dataframe\">\n",
       "  <thead>\n",
       "    <tr style=\"text-align: right;\">\n",
       "      <th></th>\n",
       "      <th>content_id</th>\n",
       "      <th>avg(answered_correctly)</th>\n",
       "    </tr>\n",
       "  </thead>\n",
       "  <tbody>\n",
       "    <tr>\n",
       "      <th>0</th>\n",
       "      <td>7880</td>\n",
       "      <td>0.929134</td>\n",
       "    </tr>\n",
       "    <tr>\n",
       "      <th>1</th>\n",
       "      <td>1342</td>\n",
       "      <td>0.661290</td>\n",
       "    </tr>\n",
       "    <tr>\n",
       "      <th>2</th>\n",
       "      <td>7993</td>\n",
       "      <td>0.545455</td>\n",
       "    </tr>\n",
       "    <tr>\n",
       "      <th>3</th>\n",
       "      <td>6466</td>\n",
       "      <td>0.536585</td>\n",
       "    </tr>\n",
       "    <tr>\n",
       "      <th>4</th>\n",
       "      <td>5300</td>\n",
       "      <td>0.539474</td>\n",
       "    </tr>\n",
       "    <tr>\n",
       "      <th>...</th>\n",
       "      <td>...</td>\n",
       "      <td>...</td>\n",
       "    </tr>\n",
       "    <tr>\n",
       "      <th>13315</th>\n",
       "      <td>6153</td>\n",
       "      <td>0.625000</td>\n",
       "    </tr>\n",
       "    <tr>\n",
       "      <th>13316</th>\n",
       "      <td>3406</td>\n",
       "      <td>1.000000</td>\n",
       "    </tr>\n",
       "    <tr>\n",
       "      <th>13317</th>\n",
       "      <td>7466</td>\n",
       "      <td>1.000000</td>\n",
       "    </tr>\n",
       "    <tr>\n",
       "      <th>13318</th>\n",
       "      <td>12444</td>\n",
       "      <td>1.000000</td>\n",
       "    </tr>\n",
       "    <tr>\n",
       "      <th>13319</th>\n",
       "      <td>12622</td>\n",
       "      <td>0.500000</td>\n",
       "    </tr>\n",
       "  </tbody>\n",
       "</table>\n",
       "<p>13320 rows × 2 columns</p>\n",
       "</div>"
      ],
      "text/plain": [
       "       content_id  avg(answered_correctly)\n",
       "0            7880                 0.929134\n",
       "1            1342                 0.661290\n",
       "2            7993                 0.545455\n",
       "3            6466                 0.536585\n",
       "4            5300                 0.539474\n",
       "...           ...                      ...\n",
       "13315        6153                 0.625000\n",
       "13316        3406                 1.000000\n",
       "13317        7466                 1.000000\n",
       "13318       12444                 1.000000\n",
       "13319       12622                 0.500000\n",
       "\n",
       "[13320 rows x 2 columns]"
      ]
     },
     "execution_count": 7,
     "metadata": {},
     "output_type": "execute_result"
    }
   ],
   "source": [
    "%%time\n",
    "(\n",
    "riiid_df\n",
    "    .select('content_id', 'answered_correctly')\n",
    "    .groupby('content_id')\n",
    "    .mean('answered_correctly')\n",
    "    .toPandas()\n",
    ")\n",
    "\n"
   ]
  },
  {
   "cell_type": "code",
   "execution_count": 8,
   "id": "7a41e7c6",
   "metadata": {},
   "outputs": [
    {
     "name": "stdout",
     "output_type": "stream",
     "text": [
      "CPU times: user 21.8 ms, sys: 131 µs, total: 22 ms\n",
      "Wall time: 1.65 s\n"
     ]
    },
    {
     "data": {
      "application/vnd.microsoft.datawrangler.viewer.v0+json": {
       "columns": [
        {
         "name": "index",
         "rawType": "int64",
         "type": "integer"
        },
        {
         "name": "user_id",
         "rawType": "int32",
         "type": "integer"
        },
        {
         "name": "avg(answered_correctly)",
         "rawType": "float64",
         "type": "float"
        }
       ],
       "ref": "00926805-199b-40bb-afc5-586f038e6223",
       "rows": [
        [
         "0",
         "9656713",
         "0.8028169014084507"
        ],
        [
         "1",
         "3233182",
         "0.627661909989023"
        ],
        [
         "2",
         "9970282",
         "0.7414299706170421"
        ],
        [
         "3",
         "6431206",
         "0.6170886075949367"
        ],
        [
         "4",
         "7039142",
         "0.5769230769230769"
        ],
        [
         "5",
         "6935015",
         "0.6388888888888888"
        ],
        [
         "6",
         "8241842",
         "0.6470588235294118"
        ],
        [
         "7",
         "7452315",
         "0.37037037037037035"
        ],
        [
         "8",
         "14585331",
         "0.4430379746835443"
        ],
        [
         "9",
         "13477568",
         "0.43729903536977494"
        ],
        [
         "10",
         "16677093",
         "0.6756756756756757"
        ],
        [
         "11",
         "13032100",
         "0.37777777777777777"
        ],
        [
         "12",
         "19075598",
         "0.56"
        ],
        [
         "13",
         "17232317",
         "0.5789473684210527"
        ],
        [
         "14",
         "10520944",
         "0.5833333333333334"
        ],
        [
         "15",
         "7832398",
         "0.7058823529411765"
        ],
        [
         "16",
         "11989546",
         "0.6153846153846154"
        ],
        [
         "17",
         "8450805",
         "0.5666666666666667"
        ],
        [
         "18",
         "9373844",
         "0.650399290150843"
        ],
        [
         "19",
         "1722494",
         "0.1"
        ],
        [
         "20",
         "3357157",
         "0.6333333333333333"
        ],
        [
         "21",
         "7025965",
         "0.42"
        ],
        [
         "22",
         "3645220",
         "0.7008547008547008"
        ],
        [
         "23",
         "3091549",
         "0.7037037037037037"
        ],
        [
         "24",
         "13328543",
         "0.6592039800995025"
        ],
        [
         "25",
         "20475875",
         "0.525"
        ],
        [
         "26",
         "13275347",
         "0.5675675675675675"
        ],
        [
         "27",
         "13224096",
         "0.3870967741935484"
        ],
        [
         "28",
         "13969101",
         "0.5"
        ],
        [
         "29",
         "17114462",
         "0.3"
        ],
        [
         "30",
         "4241441",
         "0.5"
        ],
        [
         "31",
         "1765772",
         "0.5405251141552512"
        ],
        [
         "32",
         "4261902",
         "0.6666666666666666"
        ],
        [
         "33",
         "4990101",
         "0.6646525679758308"
        ],
        [
         "34",
         "4780783",
         "0.6086956521739131"
        ],
        [
         "35",
         "2879539",
         "0.3"
        ],
        [
         "36",
         "2198581",
         "0.6428571428571429"
        ],
        [
         "37",
         "5243414",
         "0.35"
        ],
        [
         "38",
         "8124200",
         "0.3"
        ],
        [
         "39",
         "4146738",
         "0.782608695652174"
        ],
        [
         "40",
         "2898560",
         "0.5714285714285714"
        ],
        [
         "41",
         "4711487",
         "0.5161290322580645"
        ],
        [
         "42",
         "19226422",
         "0.6022304832713755"
        ],
        [
         "43",
         "13378104",
         "0.75"
        ],
        [
         "44",
         "11564883",
         "0.2962962962962963"
        ],
        [
         "45",
         "11284218",
         "0.3"
        ],
        [
         "46",
         "11853420",
         "0.425"
        ],
        [
         "47",
         "15375890",
         "0.6"
        ],
        [
         "48",
         "10359275",
         "0.38461538461538464"
        ],
        [
         "49",
         "107002",
         "0.7906265919510953"
        ]
       ],
       "shape": {
        "columns": 2,
        "rows": 3824
       }
      },
      "text/html": [
       "<div>\n",
       "<style scoped>\n",
       "    .dataframe tbody tr th:only-of-type {\n",
       "        vertical-align: middle;\n",
       "    }\n",
       "\n",
       "    .dataframe tbody tr th {\n",
       "        vertical-align: top;\n",
       "    }\n",
       "\n",
       "    .dataframe thead th {\n",
       "        text-align: right;\n",
       "    }\n",
       "</style>\n",
       "<table border=\"1\" class=\"dataframe\">\n",
       "  <thead>\n",
       "    <tr style=\"text-align: right;\">\n",
       "      <th></th>\n",
       "      <th>user_id</th>\n",
       "      <th>avg(answered_correctly)</th>\n",
       "    </tr>\n",
       "  </thead>\n",
       "  <tbody>\n",
       "    <tr>\n",
       "      <th>0</th>\n",
       "      <td>9656713</td>\n",
       "      <td>0.802817</td>\n",
       "    </tr>\n",
       "    <tr>\n",
       "      <th>1</th>\n",
       "      <td>3233182</td>\n",
       "      <td>0.627662</td>\n",
       "    </tr>\n",
       "    <tr>\n",
       "      <th>2</th>\n",
       "      <td>9970282</td>\n",
       "      <td>0.741430</td>\n",
       "    </tr>\n",
       "    <tr>\n",
       "      <th>3</th>\n",
       "      <td>6431206</td>\n",
       "      <td>0.617089</td>\n",
       "    </tr>\n",
       "    <tr>\n",
       "      <th>4</th>\n",
       "      <td>7039142</td>\n",
       "      <td>0.576923</td>\n",
       "    </tr>\n",
       "    <tr>\n",
       "      <th>...</th>\n",
       "      <td>...</td>\n",
       "      <td>...</td>\n",
       "    </tr>\n",
       "    <tr>\n",
       "      <th>3819</th>\n",
       "      <td>12092959</td>\n",
       "      <td>0.460000</td>\n",
       "    </tr>\n",
       "    <tr>\n",
       "      <th>3820</th>\n",
       "      <td>19997619</td>\n",
       "      <td>0.294118</td>\n",
       "    </tr>\n",
       "    <tr>\n",
       "      <th>3821</th>\n",
       "      <td>14531615</td>\n",
       "      <td>0.705882</td>\n",
       "    </tr>\n",
       "    <tr>\n",
       "      <th>3822</th>\n",
       "      <td>20443589</td>\n",
       "      <td>0.533333</td>\n",
       "    </tr>\n",
       "    <tr>\n",
       "      <th>3823</th>\n",
       "      <td>14289343</td>\n",
       "      <td>0.625000</td>\n",
       "    </tr>\n",
       "  </tbody>\n",
       "</table>\n",
       "<p>3824 rows × 2 columns</p>\n",
       "</div>"
      ],
      "text/plain": [
       "       user_id  avg(answered_correctly)\n",
       "0      9656713                 0.802817\n",
       "1      3233182                 0.627662\n",
       "2      9970282                 0.741430\n",
       "3      6431206                 0.617089\n",
       "4      7039142                 0.576923\n",
       "...        ...                      ...\n",
       "3819  12092959                 0.460000\n",
       "3820  19997619                 0.294118\n",
       "3821  14531615                 0.705882\n",
       "3822  20443589                 0.533333\n",
       "3823  14289343                 0.625000\n",
       "\n",
       "[3824 rows x 2 columns]"
      ]
     },
     "execution_count": 8,
     "metadata": {},
     "output_type": "execute_result"
    }
   ],
   "source": [
    "%%time\n",
    "(\n",
    "riiid_df\n",
    "    .select('user_id', 'answered_correctly')\n",
    "    .groupby('user_id')\n",
    "    .mean('answered_correctly')\n",
    "    .toPandas()\n",
    ")"
   ]
  },
  {
   "cell_type": "markdown",
   "id": "4ccef2e5",
   "metadata": {},
   "source": [
    "## Упражнение 1\n",
    "Выведите top 10 студентов с наилучшими результатами"
   ]
  },
  {
   "cell_type": "code",
   "execution_count": 9,
   "id": "aa158ffa",
   "metadata": {},
   "outputs": [
    {
     "name": "stdout",
     "output_type": "stream",
     "text": [
      "CPU times: user 11.3 ms, sys: 0 ns, total: 11.3 ms\n",
      "Wall time: 1.52 s\n"
     ]
    },
    {
     "data": {
      "application/vnd.microsoft.datawrangler.viewer.v0+json": {
       "columns": [
        {
         "name": "index",
         "rawType": "int64",
         "type": "integer"
        },
        {
         "name": "user_id",
         "rawType": "int32",
         "type": "integer"
        },
        {
         "name": "avg(answered_correctly)",
         "rawType": "float64",
         "type": "float"
        }
       ],
       "ref": "983a0d3d-be44-4b35-863a-b65f14a94b25",
       "rows": [
        [
         "0",
         "1880240",
         "1.0"
        ],
        [
         "1",
         "19087497",
         "0.967741935483871"
        ],
        [
         "2",
         "7528236",
         "0.967741935483871"
        ],
        [
         "3",
         "3126556",
         "0.9666666666666667"
        ],
        [
         "4",
         "7788970",
         "0.9666666666666667"
        ],
        [
         "5",
         "19190311",
         "0.9375"
        ],
        [
         "6",
         "10905154",
         "0.9333333333333333"
        ],
        [
         "7",
         "2212092",
         "0.9285714285714286"
        ],
        [
         "8",
         "1534292",
         "0.9230769230769231"
        ],
        [
         "9",
         "14998785",
         "0.9176470588235294"
        ]
       ],
       "shape": {
        "columns": 2,
        "rows": 10
       }
      },
      "text/html": [
       "<div>\n",
       "<style scoped>\n",
       "    .dataframe tbody tr th:only-of-type {\n",
       "        vertical-align: middle;\n",
       "    }\n",
       "\n",
       "    .dataframe tbody tr th {\n",
       "        vertical-align: top;\n",
       "    }\n",
       "\n",
       "    .dataframe thead th {\n",
       "        text-align: right;\n",
       "    }\n",
       "</style>\n",
       "<table border=\"1\" class=\"dataframe\">\n",
       "  <thead>\n",
       "    <tr style=\"text-align: right;\">\n",
       "      <th></th>\n",
       "      <th>user_id</th>\n",
       "      <th>avg(answered_correctly)</th>\n",
       "    </tr>\n",
       "  </thead>\n",
       "  <tbody>\n",
       "    <tr>\n",
       "      <th>0</th>\n",
       "      <td>1880240</td>\n",
       "      <td>1.000000</td>\n",
       "    </tr>\n",
       "    <tr>\n",
       "      <th>1</th>\n",
       "      <td>19087497</td>\n",
       "      <td>0.967742</td>\n",
       "    </tr>\n",
       "    <tr>\n",
       "      <th>2</th>\n",
       "      <td>7528236</td>\n",
       "      <td>0.967742</td>\n",
       "    </tr>\n",
       "    <tr>\n",
       "      <th>3</th>\n",
       "      <td>3126556</td>\n",
       "      <td>0.966667</td>\n",
       "    </tr>\n",
       "    <tr>\n",
       "      <th>4</th>\n",
       "      <td>7788970</td>\n",
       "      <td>0.966667</td>\n",
       "    </tr>\n",
       "    <tr>\n",
       "      <th>5</th>\n",
       "      <td>19190311</td>\n",
       "      <td>0.937500</td>\n",
       "    </tr>\n",
       "    <tr>\n",
       "      <th>6</th>\n",
       "      <td>10905154</td>\n",
       "      <td>0.933333</td>\n",
       "    </tr>\n",
       "    <tr>\n",
       "      <th>7</th>\n",
       "      <td>2212092</td>\n",
       "      <td>0.928571</td>\n",
       "    </tr>\n",
       "    <tr>\n",
       "      <th>8</th>\n",
       "      <td>1534292</td>\n",
       "      <td>0.923077</td>\n",
       "    </tr>\n",
       "    <tr>\n",
       "      <th>9</th>\n",
       "      <td>14998785</td>\n",
       "      <td>0.917647</td>\n",
       "    </tr>\n",
       "  </tbody>\n",
       "</table>\n",
       "</div>"
      ],
      "text/plain": [
       "    user_id  avg(answered_correctly)\n",
       "0   1880240                 1.000000\n",
       "1  19087497                 0.967742\n",
       "2   7528236                 0.967742\n",
       "3   3126556                 0.966667\n",
       "4   7788970                 0.966667\n",
       "5  19190311                 0.937500\n",
       "6  10905154                 0.933333\n",
       "7   2212092                 0.928571\n",
       "8   1534292                 0.923077\n",
       "9  14998785                 0.917647"
      ]
     },
     "execution_count": 9,
     "metadata": {},
     "output_type": "execute_result"
    }
   ],
   "source": [
    "%%time\n",
    "(\n",
    "riiid_df\n",
    "    .select(\"user_id\", \"answered_correctly\")\n",
    "    .groupBy(\"user_id\")\n",
    "    .mean(\"answered_correctly\")\n",
    "    .orderBy(\"avg(answered_correctly)\", ascending=False)\n",
    "    .limit(10)\n",
    "    .toPandas()\n",
    ")"
   ]
  },
  {
   "cell_type": "markdown",
   "id": "2d3b0bcd",
   "metadata": {},
   "source": [
    "## Упражнение 2\n",
    "Выведите top 10 задач с наихудшими результатами"
   ]
  },
  {
   "cell_type": "code",
   "execution_count": 12,
   "id": "2b7579c6",
   "metadata": {},
   "outputs": [
    {
     "name": "stdout",
     "output_type": "stream",
     "text": [
      "CPU times: user 4.65 ms, sys: 8.09 ms, total: 12.7 ms\n",
      "Wall time: 1.68 s\n"
     ]
    },
    {
     "data": {
      "application/vnd.microsoft.datawrangler.viewer.v0+json": {
       "columns": [
        {
         "name": "index",
         "rawType": "int64",
         "type": "integer"
        },
        {
         "name": "content_id",
         "rawType": "int32",
         "type": "integer"
        },
        {
         "name": "avg(answered_correctly)",
         "rawType": "float64",
         "type": "float"
        }
       ],
       "ref": "8bfcc301-2aff-4555-9fde-a4c4419234d1",
       "rows": [
        [
         "0",
         "12401",
         "0.0"
        ],
        [
         "1",
         "12344",
         "0.0"
        ],
        [
         "2",
         "1884",
         "0.0"
        ],
        [
         "3",
         "12530",
         "0.0"
        ],
        [
         "4",
         "9338",
         "0.0"
        ],
        [
         "5",
         "13060",
         "0.0"
        ],
        [
         "6",
         "516",
         "0.0"
        ],
        [
         "7",
         "12799",
         "0.0"
        ],
        [
         "8",
         "3042",
         "0.0"
        ],
        [
         "9",
         "4401",
         "0.0"
        ]
       ],
       "shape": {
        "columns": 2,
        "rows": 10
       }
      },
      "text/html": [
       "<div>\n",
       "<style scoped>\n",
       "    .dataframe tbody tr th:only-of-type {\n",
       "        vertical-align: middle;\n",
       "    }\n",
       "\n",
       "    .dataframe tbody tr th {\n",
       "        vertical-align: top;\n",
       "    }\n",
       "\n",
       "    .dataframe thead th {\n",
       "        text-align: right;\n",
       "    }\n",
       "</style>\n",
       "<table border=\"1\" class=\"dataframe\">\n",
       "  <thead>\n",
       "    <tr style=\"text-align: right;\">\n",
       "      <th></th>\n",
       "      <th>content_id</th>\n",
       "      <th>avg(answered_correctly)</th>\n",
       "    </tr>\n",
       "  </thead>\n",
       "  <tbody>\n",
       "    <tr>\n",
       "      <th>0</th>\n",
       "      <td>12401</td>\n",
       "      <td>0.0</td>\n",
       "    </tr>\n",
       "    <tr>\n",
       "      <th>1</th>\n",
       "      <td>12344</td>\n",
       "      <td>0.0</td>\n",
       "    </tr>\n",
       "    <tr>\n",
       "      <th>2</th>\n",
       "      <td>1884</td>\n",
       "      <td>0.0</td>\n",
       "    </tr>\n",
       "    <tr>\n",
       "      <th>3</th>\n",
       "      <td>12530</td>\n",
       "      <td>0.0</td>\n",
       "    </tr>\n",
       "    <tr>\n",
       "      <th>4</th>\n",
       "      <td>9338</td>\n",
       "      <td>0.0</td>\n",
       "    </tr>\n",
       "    <tr>\n",
       "      <th>5</th>\n",
       "      <td>13060</td>\n",
       "      <td>0.0</td>\n",
       "    </tr>\n",
       "    <tr>\n",
       "      <th>6</th>\n",
       "      <td>516</td>\n",
       "      <td>0.0</td>\n",
       "    </tr>\n",
       "    <tr>\n",
       "      <th>7</th>\n",
       "      <td>12799</td>\n",
       "      <td>0.0</td>\n",
       "    </tr>\n",
       "    <tr>\n",
       "      <th>8</th>\n",
       "      <td>3042</td>\n",
       "      <td>0.0</td>\n",
       "    </tr>\n",
       "    <tr>\n",
       "      <th>9</th>\n",
       "      <td>4401</td>\n",
       "      <td>0.0</td>\n",
       "    </tr>\n",
       "  </tbody>\n",
       "</table>\n",
       "</div>"
      ],
      "text/plain": [
       "   content_id  avg(answered_correctly)\n",
       "0       12401                      0.0\n",
       "1       12344                      0.0\n",
       "2        1884                      0.0\n",
       "3       12530                      0.0\n",
       "4        9338                      0.0\n",
       "5       13060                      0.0\n",
       "6         516                      0.0\n",
       "7       12799                      0.0\n",
       "8        3042                      0.0\n",
       "9        4401                      0.0"
      ]
     },
     "execution_count": 12,
     "metadata": {},
     "output_type": "execute_result"
    }
   ],
   "source": [
    "%%time\n",
    "(\n",
    "riiid_df\n",
    "    .select(\"content_id\", \"answered_correctly\")\n",
    "    .filter(col(\"answered_correctly\") >= 0)\n",
    "    .groupBy(\"content_id\")\n",
    "    .mean(\"answered_correctly\")\n",
    "    .orderBy(\"avg(answered_correctly)\", ascending=True)\n",
    "    .limit(10)\n",
    "    .toPandas()\n",
    ")"
   ]
  },
  {
   "cell_type": "markdown",
   "id": "77b7b558",
   "metadata": {},
   "source": [
    "## pyspark user defined functions (UDF)\n",
    "\n",
    "Как и для других языков, поддерживаемых Spark, для python есть возможность использовать UDF. При этом возникают дополнительные накладные расходы по сравнению с Java и Scala на маршалинг данных."
   ]
  },
  {
   "cell_type": "code",
   "execution_count": 13,
   "id": "9f926751",
   "metadata": {},
   "outputs": [],
   "source": [
    "from pyspark.sql.types import LongType\n",
    "\n",
    "def to_months(ms):\n",
    "    return ms // 31536000000 // 12 #1 year = 31536000000 ms\n",
    "\n",
    "to_months_udf = f.udf(to_months, LongType())"
   ]
  },
  {
   "cell_type": "markdown",
   "id": "7773f2c6",
   "metadata": {},
   "source": [
    "Замерим время выполнения без UDF"
   ]
  },
  {
   "cell_type": "code",
   "execution_count": 14,
   "id": "e9ac8d67",
   "metadata": {},
   "outputs": [
    {
     "name": "stdout",
     "output_type": "stream",
     "text": [
      "CPU times: user 103 ms, sys: 4.56 ms, total: 107 ms\n",
      "Wall time: 1.27 s\n"
     ]
    },
    {
     "data": {
      "application/vnd.microsoft.datawrangler.viewer.v0+json": {
       "columns": [
        {
         "name": "index",
         "rawType": "int64",
         "type": "integer"
        },
        {
         "name": "content_id",
         "rawType": "int32",
         "type": "integer"
        },
        {
         "name": "avg(timestamp)",
         "rawType": "float64",
         "type": "float"
        }
       ],
       "ref": "60231d63-6a0a-4eaa-ae5c-aa2ef843979f",
       "rows": [
        [
         "0",
         "7880",
         "6035221625.165355"
        ],
        [
         "1",
         "1342",
         "7750258807.564516"
        ],
        [
         "2",
         "7993",
         "9291446206.886364"
        ],
        [
         "3",
         "6466",
         "8218247245.560976"
        ],
        [
         "4",
         "5300",
         "5720628165.921053"
        ],
        [
         "5",
         "23336",
         "6081016658.221312"
        ],
        [
         "6",
         "6397",
         "9808922179.61039"
        ],
        [
         "7",
         "1088",
         "10702811069.141844"
        ],
        [
         "8",
         "4818",
         "5663484467.78913"
        ],
        [
         "9",
         "9852",
         "7872318792.02"
        ],
        [
         "10",
         "11748",
         "3777222402.9166665"
        ],
        [
         "11",
         "10362",
         "12532610331.17647"
        ],
        [
         "12",
         "1238",
         "7750563514.823204"
        ],
        [
         "13",
         "5156",
         "6396254125.093284"
        ],
        [
         "14",
         "833",
         "8236321438.447369"
        ],
        [
         "15",
         "8638",
         "8303195824.294737"
        ],
        [
         "16",
         "2122",
         "9474310864.277779"
        ],
        [
         "17",
         "9465",
         "9941829217.349207"
        ],
        [
         "18",
         "4519",
         "5721796634.075892"
        ],
        [
         "19",
         "6620",
         "9241666418.472603"
        ],
        [
         "20",
         "471",
         "7057186548.631579"
        ],
        [
         "21",
         "1959",
         "15157440700.880953"
        ],
        [
         "22",
         "7982",
         "10030234532.844828"
        ],
        [
         "23",
         "10206",
         "8933369486.464788"
        ],
        [
         "24",
         "496",
         "6487314158.466258"
        ],
        [
         "25",
         "5518",
         "8590606750.666666"
        ],
        [
         "26",
         "3918",
         "6197418291.845071"
        ],
        [
         "27",
         "11858",
         "13108483869.805555"
        ],
        [
         "28",
         "148",
         "6273060725.268292"
        ],
        [
         "29",
         "10623",
         "7795063410.565217"
        ],
        [
         "30",
         "1580",
         "10180476623.258064"
        ],
        [
         "31",
         "3749",
         "7853523228.546762"
        ],
        [
         "32",
         "8592",
         "6705855372.978724"
        ],
        [
         "33",
         "4101",
         "7798758606.615385"
        ],
        [
         "34",
         "3997",
         "8819701843.794872"
        ],
        [
         "35",
         "10817",
         "12473910739.939394"
        ],
        [
         "36",
         "2866",
         "10728482096.3"
        ],
        [
         "37",
         "13289",
         "17666401944.5"
        ],
        [
         "38",
         "11033",
         "10389475701.133333"
        ],
        [
         "39",
         "2366",
         "9709764871.887323"
        ],
        [
         "40",
         "3175",
         "9584035050.35"
        ],
        [
         "41",
         "9376",
         "6774990775.395349"
        ],
        [
         "42",
         "1591",
         "9861064623.662922"
        ],
        [
         "43",
         "7340",
         "8868297025.558823"
        ],
        [
         "44",
         "4935",
         "2675076144.4"
        ],
        [
         "45",
         "6658",
         "8117210677.76087"
        ],
        [
         "46",
         "3794",
         "3223358260.15625"
        ],
        [
         "47",
         "11141",
         "13846896264.5"
        ],
        [
         "48",
         "7554",
         "9466412605.066668"
        ],
        [
         "49",
         "6336",
         "6656733536.260274"
        ]
       ],
       "shape": {
        "columns": 2,
        "rows": 13320
       }
      },
      "text/html": [
       "<div>\n",
       "<style scoped>\n",
       "    .dataframe tbody tr th:only-of-type {\n",
       "        vertical-align: middle;\n",
       "    }\n",
       "\n",
       "    .dataframe tbody tr th {\n",
       "        vertical-align: top;\n",
       "    }\n",
       "\n",
       "    .dataframe thead th {\n",
       "        text-align: right;\n",
       "    }\n",
       "</style>\n",
       "<table border=\"1\" class=\"dataframe\">\n",
       "  <thead>\n",
       "    <tr style=\"text-align: right;\">\n",
       "      <th></th>\n",
       "      <th>content_id</th>\n",
       "      <th>avg(timestamp)</th>\n",
       "    </tr>\n",
       "  </thead>\n",
       "  <tbody>\n",
       "    <tr>\n",
       "      <th>0</th>\n",
       "      <td>7880</td>\n",
       "      <td>6.035222e+09</td>\n",
       "    </tr>\n",
       "    <tr>\n",
       "      <th>1</th>\n",
       "      <td>1342</td>\n",
       "      <td>7.750259e+09</td>\n",
       "    </tr>\n",
       "    <tr>\n",
       "      <th>2</th>\n",
       "      <td>7993</td>\n",
       "      <td>9.291446e+09</td>\n",
       "    </tr>\n",
       "    <tr>\n",
       "      <th>3</th>\n",
       "      <td>6466</td>\n",
       "      <td>8.218247e+09</td>\n",
       "    </tr>\n",
       "    <tr>\n",
       "      <th>4</th>\n",
       "      <td>5300</td>\n",
       "      <td>5.720628e+09</td>\n",
       "    </tr>\n",
       "    <tr>\n",
       "      <th>...</th>\n",
       "      <td>...</td>\n",
       "      <td>...</td>\n",
       "    </tr>\n",
       "    <tr>\n",
       "      <th>13315</th>\n",
       "      <td>6153</td>\n",
       "      <td>1.583090e+09</td>\n",
       "    </tr>\n",
       "    <tr>\n",
       "      <th>13316</th>\n",
       "      <td>3406</td>\n",
       "      <td>2.398304e+08</td>\n",
       "    </tr>\n",
       "    <tr>\n",
       "      <th>13317</th>\n",
       "      <td>7466</td>\n",
       "      <td>1.453746e+10</td>\n",
       "    </tr>\n",
       "    <tr>\n",
       "      <th>13318</th>\n",
       "      <td>12444</td>\n",
       "      <td>1.369568e+09</td>\n",
       "    </tr>\n",
       "    <tr>\n",
       "      <th>13319</th>\n",
       "      <td>12622</td>\n",
       "      <td>3.307329e+10</td>\n",
       "    </tr>\n",
       "  </tbody>\n",
       "</table>\n",
       "<p>13320 rows × 2 columns</p>\n",
       "</div>"
      ],
      "text/plain": [
       "       content_id  avg(timestamp)\n",
       "0            7880    6.035222e+09\n",
       "1            1342    7.750259e+09\n",
       "2            7993    9.291446e+09\n",
       "3            6466    8.218247e+09\n",
       "4            5300    5.720628e+09\n",
       "...           ...             ...\n",
       "13315        6153    1.583090e+09\n",
       "13316        3406    2.398304e+08\n",
       "13317        7466    1.453746e+10\n",
       "13318       12444    1.369568e+09\n",
       "13319       12622    3.307329e+10\n",
       "\n",
       "[13320 rows x 2 columns]"
      ]
     },
     "execution_count": 14,
     "metadata": {},
     "output_type": "execute_result"
    }
   ],
   "source": [
    "%%time\n",
    "(\n",
    "    riiid_df\n",
    "        .select(\"content_id\", \"timestamp\")\n",
    "        .groupby(\"content_id\")\n",
    "        .mean(\"timestamp\")\n",
    "        .toPandas()\n",
    ")"
   ]
  },
  {
   "cell_type": "markdown",
   "id": "6dd8a724",
   "metadata": {},
   "source": [
    "Применим простой UDF к похожему запросу"
   ]
  },
  {
   "cell_type": "code",
   "execution_count": 15,
   "id": "41ebb9c7",
   "metadata": {},
   "outputs": [
    {
     "name": "stdout",
     "output_type": "stream",
     "text": [
      "CPU times: user 91.5 ms, sys: 16.6 ms, total: 108 ms\n",
      "Wall time: 4.41 s\n"
     ]
    },
    {
     "data": {
      "application/vnd.microsoft.datawrangler.viewer.v0+json": {
       "columns": [
        {
         "name": "index",
         "rawType": "int64",
         "type": "integer"
        },
        {
         "name": "content_id",
         "rawType": "int32",
         "type": "integer"
        },
        {
         "name": "avg(months)",
         "rawType": "float64",
         "type": "float"
        }
       ],
       "ref": "2085b0ed-ab73-47cc-b1bb-f96801af7d4a",
       "rows": [
        [
         "0",
         "7880",
         "0.0"
        ],
        [
         "1",
         "1342",
         "0.0"
        ],
        [
         "2",
         "7993",
         "0.0"
        ],
        [
         "3",
         "6466",
         "0.0"
        ],
        [
         "4",
         "5300",
         "0.0"
        ],
        [
         "5",
         "23336",
         "0.0"
        ],
        [
         "6",
         "6397",
         "0.0"
        ],
        [
         "7",
         "1088",
         "0.0"
        ],
        [
         "8",
         "4818",
         "0.0"
        ],
        [
         "9",
         "9852",
         "0.0"
        ],
        [
         "10",
         "11748",
         "0.0"
        ],
        [
         "11",
         "10362",
         "0.0"
        ],
        [
         "12",
         "1238",
         "0.0"
        ],
        [
         "13",
         "5156",
         "0.0"
        ],
        [
         "14",
         "833",
         "0.0"
        ],
        [
         "15",
         "8638",
         "0.0"
        ],
        [
         "16",
         "2122",
         "0.0"
        ],
        [
         "17",
         "9465",
         "0.0"
        ],
        [
         "18",
         "4519",
         "0.0"
        ],
        [
         "19",
         "6620",
         "0.0"
        ],
        [
         "20",
         "471",
         "0.0"
        ],
        [
         "21",
         "1959",
         "0.0"
        ],
        [
         "22",
         "7982",
         "0.0"
        ],
        [
         "23",
         "10206",
         "0.0"
        ],
        [
         "24",
         "496",
         "0.0"
        ],
        [
         "25",
         "5518",
         "0.0"
        ],
        [
         "26",
         "3918",
         "0.0"
        ],
        [
         "27",
         "11858",
         "0.0"
        ],
        [
         "28",
         "148",
         "0.0"
        ],
        [
         "29",
         "10623",
         "0.0"
        ],
        [
         "30",
         "1580",
         "0.0"
        ],
        [
         "31",
         "3749",
         "0.0"
        ],
        [
         "32",
         "8592",
         "0.0"
        ],
        [
         "33",
         "4101",
         "0.0"
        ],
        [
         "34",
         "3997",
         "0.0"
        ],
        [
         "35",
         "10817",
         "0.0"
        ],
        [
         "36",
         "2866",
         "0.0"
        ],
        [
         "37",
         "13289",
         "0.0"
        ],
        [
         "38",
         "11033",
         "0.0"
        ],
        [
         "39",
         "2366",
         "0.0"
        ],
        [
         "40",
         "3175",
         "0.0"
        ],
        [
         "41",
         "9376",
         "0.0"
        ],
        [
         "42",
         "1591",
         "0.0"
        ],
        [
         "43",
         "7340",
         "0.0"
        ],
        [
         "44",
         "4935",
         "0.0"
        ],
        [
         "45",
         "6658",
         "0.0"
        ],
        [
         "46",
         "3794",
         "0.0"
        ],
        [
         "47",
         "11141",
         "0.0"
        ],
        [
         "48",
         "7554",
         "0.0"
        ],
        [
         "49",
         "6336",
         "0.0"
        ]
       ],
       "shape": {
        "columns": 2,
        "rows": 13320
       }
      },
      "text/html": [
       "<div>\n",
       "<style scoped>\n",
       "    .dataframe tbody tr th:only-of-type {\n",
       "        vertical-align: middle;\n",
       "    }\n",
       "\n",
       "    .dataframe tbody tr th {\n",
       "        vertical-align: top;\n",
       "    }\n",
       "\n",
       "    .dataframe thead th {\n",
       "        text-align: right;\n",
       "    }\n",
       "</style>\n",
       "<table border=\"1\" class=\"dataframe\">\n",
       "  <thead>\n",
       "    <tr style=\"text-align: right;\">\n",
       "      <th></th>\n",
       "      <th>content_id</th>\n",
       "      <th>avg(months)</th>\n",
       "    </tr>\n",
       "  </thead>\n",
       "  <tbody>\n",
       "    <tr>\n",
       "      <th>0</th>\n",
       "      <td>7880</td>\n",
       "      <td>0.0</td>\n",
       "    </tr>\n",
       "    <tr>\n",
       "      <th>1</th>\n",
       "      <td>1342</td>\n",
       "      <td>0.0</td>\n",
       "    </tr>\n",
       "    <tr>\n",
       "      <th>2</th>\n",
       "      <td>7993</td>\n",
       "      <td>0.0</td>\n",
       "    </tr>\n",
       "    <tr>\n",
       "      <th>3</th>\n",
       "      <td>6466</td>\n",
       "      <td>0.0</td>\n",
       "    </tr>\n",
       "    <tr>\n",
       "      <th>4</th>\n",
       "      <td>5300</td>\n",
       "      <td>0.0</td>\n",
       "    </tr>\n",
       "    <tr>\n",
       "      <th>...</th>\n",
       "      <td>...</td>\n",
       "      <td>...</td>\n",
       "    </tr>\n",
       "    <tr>\n",
       "      <th>13315</th>\n",
       "      <td>6153</td>\n",
       "      <td>0.0</td>\n",
       "    </tr>\n",
       "    <tr>\n",
       "      <th>13316</th>\n",
       "      <td>3406</td>\n",
       "      <td>0.0</td>\n",
       "    </tr>\n",
       "    <tr>\n",
       "      <th>13317</th>\n",
       "      <td>7466</td>\n",
       "      <td>0.0</td>\n",
       "    </tr>\n",
       "    <tr>\n",
       "      <th>13318</th>\n",
       "      <td>12444</td>\n",
       "      <td>0.0</td>\n",
       "    </tr>\n",
       "    <tr>\n",
       "      <th>13319</th>\n",
       "      <td>12622</td>\n",
       "      <td>0.0</td>\n",
       "    </tr>\n",
       "  </tbody>\n",
       "</table>\n",
       "<p>13320 rows × 2 columns</p>\n",
       "</div>"
      ],
      "text/plain": [
       "       content_id  avg(months)\n",
       "0            7880          0.0\n",
       "1            1342          0.0\n",
       "2            7993          0.0\n",
       "3            6466          0.0\n",
       "4            5300          0.0\n",
       "...           ...          ...\n",
       "13315        6153          0.0\n",
       "13316        3406          0.0\n",
       "13317        7466          0.0\n",
       "13318       12444          0.0\n",
       "13319       12622          0.0\n",
       "\n",
       "[13320 rows x 2 columns]"
      ]
     },
     "execution_count": 15,
     "metadata": {},
     "output_type": "execute_result"
    }
   ],
   "source": [
    "%%time\n",
    "(\n",
    "    riiid_df\n",
    "        .select(\"content_id\", to_months_udf(\"timestamp\").alias(\"months\"))\n",
    "        .groupBy(\"content_id\")\n",
    "        .mean(\"months\")\n",
    "        .toPandas()\n",
    ")"
   ]
  },
  {
   "cell_type": "markdown",
   "id": "94024bcd",
   "metadata": {},
   "source": [
    "Перепишем логику, которая была в UDF"
   ]
  },
  {
   "cell_type": "code",
   "execution_count": null,
   "id": "0193ec6b",
   "metadata": {},
   "outputs": [
    {
     "name": "stdout",
     "output_type": "stream",
     "text": [
      "CPU times: user 94.8 ms, sys: 170 µs, total: 94.9 ms\n",
      "Wall time: 1.42 s\n"
     ]
    },
    {
     "data": {
      "application/vnd.microsoft.datawrangler.viewer.v0+json": {
       "columns": [
        {
         "name": "index",
         "rawType": "int64",
         "type": "integer"
        },
        {
         "name": "content_id",
         "rawType": "int32",
         "type": "integer"
        },
        {
         "name": "avg(months)",
         "rawType": "float64",
         "type": "float"
        }
       ],
       "ref": "6906e70d-ac16-4ecb-97b2-c367fa66b236",
       "rows": [
        [
         "0",
         "7880",
         "0.01594796852582592"
        ],
        [
         "1",
         "1342",
         "0.020479924550684175"
        ],
        [
         "2",
         "7993",
         "0.02455248553739209"
        ],
        [
         "3",
         "6466",
         "0.021716575885657063"
        ],
        [
         "4",
         "5300",
         "0.015116660763151773"
        ],
        [
         "5",
         "23336",
         "0.016068981106833753"
        ],
        [
         "6",
         "6397",
         "0.02591990682503168"
        ],
        [
         "7",
         "1088",
         "0.02828199272033508"
        ],
        [
         "8",
         "4818",
         "0.014965659531406248"
        ],
        [
         "9",
         "9852",
         "0.02080246594373626"
        ],
        [
         "10",
         "11748",
         "0.00998124472274191"
        ],
        [
         "11",
         "10362",
         "0.03311720555126542"
        ],
        [
         "12",
         "1238",
         "0.020480729734333257"
        ],
        [
         "13",
         "5156",
         "0.01690199064850035"
        ],
        [
         "14",
         "833",
         "0.0217643366270489"
        ],
        [
         "15",
         "8638",
         "0.021941051032404065"
        ],
        [
         "16",
         "2122",
         "0.025035702224647436"
        ],
        [
         "17",
         "9465",
         "0.0262711113683547"
        ],
        [
         "18",
         "4519",
         "0.015119748419995914"
        ],
        [
         "19",
         "6620",
         "0.024420943309425742"
        ],
        [
         "20",
         "471",
         "0.01864849312064408"
        ],
        [
         "21",
         "1959",
         "0.04005327430259849"
        ],
        [
         "22",
         "7982",
         "0.026504720882073465"
        ],
        [
         "23",
         "10206",
         "0.023606274010825695"
        ],
        [
         "24",
         "496",
         "0.017142615208191315"
        ],
        [
         "25",
         "5518",
         "0.02270052942316365"
        ],
        [
         "26",
         "3918",
         "0.016376570405898738"
        ],
        [
         "27",
         "11858",
         "0.03463894139450563"
        ],
        [
         "28",
         "148",
         "0.016576454224981746"
        ],
        [
         "29",
         "10623",
         "0.020598319937439796"
        ],
        [
         "30",
         "1580",
         "0.026901733001590943"
        ],
        [
         "31",
         "3749",
         "0.020752798993073425"
        ],
        [
         "32",
         "8592",
         "0.017720106579197117"
        ],
        [
         "33",
         "4101",
         "0.020608084428947307"
        ],
        [
         "34",
         "3997",
         "0.02330590923546336"
        ],
        [
         "35",
         "10817",
         "0.03296209289896043"
        ],
        [
         "36",
         "2866",
         "0.0283498279646013"
        ],
        [
         "37",
         "13289",
         "0.04668316089680576"
        ],
        [
         "38",
         "11033",
         "0.027454009441942893"
        ],
        [
         "39",
         "2366",
         "0.025657885358234305"
        ],
        [
         "40",
         "3175",
         "0.02532564648430894"
        ],
        [
         "41",
         "9376",
         "0.017902795681642537"
        ],
        [
         "42",
         "1591",
         "0.026057692329567582"
        ],
        [
         "43",
         "7340",
         "0.023434321160892373"
        ],
        [
         "44",
         "4935",
         "0.00706884233997125"
        ],
        [
         "45",
         "6658",
         "0.021449588506682493"
        ],
        [
         "46",
         "3794",
         "0.00851766832655867"
        ],
        [
         "47",
         "11141",
         "0.03659018334733849"
        ],
        [
         "48",
         "7554",
         "0.02501483121159592"
        ],
        [
         "49",
         "6336",
         "0.017590302977180245"
        ]
       ],
       "shape": {
        "columns": 2,
        "rows": 13320
       }
      },
      "text/html": [
       "<div>\n",
       "<style scoped>\n",
       "    .dataframe tbody tr th:only-of-type {\n",
       "        vertical-align: middle;\n",
       "    }\n",
       "\n",
       "    .dataframe tbody tr th {\n",
       "        vertical-align: top;\n",
       "    }\n",
       "\n",
       "    .dataframe thead th {\n",
       "        text-align: right;\n",
       "    }\n",
       "</style>\n",
       "<table border=\"1\" class=\"dataframe\">\n",
       "  <thead>\n",
       "    <tr style=\"text-align: right;\">\n",
       "      <th></th>\n",
       "      <th>content_id</th>\n",
       "      <th>avg(months)</th>\n",
       "    </tr>\n",
       "  </thead>\n",
       "  <tbody>\n",
       "    <tr>\n",
       "      <th>0</th>\n",
       "      <td>7880</td>\n",
       "      <td>0.015948</td>\n",
       "    </tr>\n",
       "    <tr>\n",
       "      <th>1</th>\n",
       "      <td>1342</td>\n",
       "      <td>0.020480</td>\n",
       "    </tr>\n",
       "    <tr>\n",
       "      <th>2</th>\n",
       "      <td>7993</td>\n",
       "      <td>0.024552</td>\n",
       "    </tr>\n",
       "    <tr>\n",
       "      <th>3</th>\n",
       "      <td>6466</td>\n",
       "      <td>0.021717</td>\n",
       "    </tr>\n",
       "    <tr>\n",
       "      <th>4</th>\n",
       "      <td>5300</td>\n",
       "      <td>0.015117</td>\n",
       "    </tr>\n",
       "    <tr>\n",
       "      <th>...</th>\n",
       "      <td>...</td>\n",
       "      <td>...</td>\n",
       "    </tr>\n",
       "    <tr>\n",
       "      <th>13315</th>\n",
       "      <td>6153</td>\n",
       "      <td>0.004183</td>\n",
       "    </tr>\n",
       "    <tr>\n",
       "      <th>13316</th>\n",
       "      <td>3406</td>\n",
       "      <td>0.000634</td>\n",
       "    </tr>\n",
       "    <tr>\n",
       "      <th>13317</th>\n",
       "      <td>7466</td>\n",
       "      <td>0.038415</td>\n",
       "    </tr>\n",
       "    <tr>\n",
       "      <th>13318</th>\n",
       "      <td>12444</td>\n",
       "      <td>0.003619</td>\n",
       "    </tr>\n",
       "    <tr>\n",
       "      <th>13319</th>\n",
       "      <td>12622</td>\n",
       "      <td>0.087396</td>\n",
       "    </tr>\n",
       "  </tbody>\n",
       "</table>\n",
       "<p>13320 rows × 2 columns</p>\n",
       "</div>"
      ],
      "text/plain": [
       "       content_id  avg(months)\n",
       "0            7880     0.015948\n",
       "1            1342     0.020480\n",
       "2            7993     0.024552\n",
       "3            6466     0.021717\n",
       "4            5300     0.015117\n",
       "...           ...          ...\n",
       "13315        6153     0.004183\n",
       "13316        3406     0.000634\n",
       "13317        7466     0.038415\n",
       "13318       12444     0.003619\n",
       "13319       12622     0.087396\n",
       "\n",
       "[13320 rows x 2 columns]"
      ]
     },
     "execution_count": 16,
     "metadata": {},
     "output_type": "execute_result"
    }
   ],
   "source": [
    "%%time\n",
    "(\n",
    "    riiid_df\n",
    "        .select(\"content_id\", (col(\"timestamp\") / 31536000000 / 12).alias(\"months\"))\n",
    "        .groupby(\"content_id\")\n",
    "        .mean(\"months\")\n",
    "        .toPandas()\n",
    ")"
   ]
  },
  {
   "cell_type": "markdown",
   "id": "b903a4e6",
   "metadata": {},
   "source": [
    "## Упражнение 3\n",
    "Постройте гистограмму по числу месяцев до первого взаимодействия студента с заданием"
   ]
  },
  {
   "cell_type": "code",
   "execution_count": 18,
   "id": "473eec0d",
   "metadata": {},
   "outputs": [],
   "source": [
    "days_histogram = riiid_df.select(col('timestamp') / 31536000000 / 12).rdd.flatMap(lambda x: x).histogram(100)"
   ]
  },
  {
   "cell_type": "code",
   "execution_count": 20,
   "id": "901c9f83",
   "metadata": {},
   "outputs": [
    {
     "data": {
      "text/plain": [
       "([0.0,\n",
       "  0.002063567471989684,\n",
       "  0.004127134943979368,\n",
       "  0.006190702415969052,\n",
       "  0.008254269887958736,\n",
       "  0.01031783735994842,\n",
       "  0.012381404831938104,\n",
       "  0.014444972303927788,\n",
       "  0.016508539775917472,\n",
       "  0.018572107247907158,\n",
       "  0.02063567471989684,\n",
       "  0.022699242191886522,\n",
       "  0.024762809663876208,\n",
       "  0.026826377135865893,\n",
       "  0.028889944607855576,\n",
       "  0.030953512079845258,\n",
       "  0.033017079551834944,\n",
       "  0.03508064702382463,\n",
       "  0.037144214495814315,\n",
       "  0.039207781967803994,\n",
       "  0.04127134943979368,\n",
       "  0.043334916911783365,\n",
       "  0.045398484383773044,\n",
       "  0.04746205185576273,\n",
       "  0.049525619327752415,\n",
       "  0.0515891867997421,\n",
       "  0.05365275427173179,\n",
       "  0.055716321743721466,\n",
       "  0.05777988921571115,\n",
       "  0.05984345668770084,\n",
       "  0.061907024159690516,\n",
       "  0.0639705916316802,\n",
       "  0.06603415910366989,\n",
       "  0.06809772657565957,\n",
       "  0.07016129404764926,\n",
       "  0.07222486151963894,\n",
       "  0.07428842899162863,\n",
       "  0.0763519964636183,\n",
       "  0.07841556393560799,\n",
       "  0.08047913140759767,\n",
       "  0.08254269887958736,\n",
       "  0.08460626635157704,\n",
       "  0.08666983382356673,\n",
       "  0.08873340129555642,\n",
       "  0.09079696876754609,\n",
       "  0.09286053623953577,\n",
       "  0.09492410371152546,\n",
       "  0.09698767118351515,\n",
       "  0.09905123865550483,\n",
       "  0.10111480612749452,\n",
       "  0.1031783735994842,\n",
       "  0.10524194107147389,\n",
       "  0.10730550854346357,\n",
       "  0.10936907601545325,\n",
       "  0.11143264348744293,\n",
       "  0.11349621095943262,\n",
       "  0.1155597784314223,\n",
       "  0.11762334590341199,\n",
       "  0.11968691337540167,\n",
       "  0.12175048084739136,\n",
       "  0.12381404831938103,\n",
       "  0.12587761579137072,\n",
       "  0.1279411832633604,\n",
       "  0.1300047507353501,\n",
       "  0.13206831820733977,\n",
       "  0.13413188567932946,\n",
       "  0.13619545315131915,\n",
       "  0.13825902062330883,\n",
       "  0.14032258809529852,\n",
       "  0.1423861555672882,\n",
       "  0.1444497230392779,\n",
       "  0.14651329051126757,\n",
       "  0.14857685798325726,\n",
       "  0.15064042545524692,\n",
       "  0.1527039929272366,\n",
       "  0.1547675603992263,\n",
       "  0.15683112787121598,\n",
       "  0.15889469534320566,\n",
       "  0.16095826281519535,\n",
       "  0.16302183028718503,\n",
       "  0.16508539775917472,\n",
       "  0.1671489652311644,\n",
       "  0.1692125327031541,\n",
       "  0.17127610017514378,\n",
       "  0.17333966764713346,\n",
       "  0.17540323511912315,\n",
       "  0.17746680259111283,\n",
       "  0.17953037006310252,\n",
       "  0.18159393753509218,\n",
       "  0.18365750500708186,\n",
       "  0.18572107247907155,\n",
       "  0.18778463995106123,\n",
       "  0.18984820742305092,\n",
       "  0.1919117748950406,\n",
       "  0.1939753423670303,\n",
       "  0.19603890983901998,\n",
       "  0.19810247731100966,\n",
       "  0.20016604478299935,\n",
       "  0.20222961225498903,\n",
       "  0.20429317972697872,\n",
       "  0.20635674719896838],\n",
       " [296308,\n",
       "  99682,\n",
       "  70160,\n",
       "  52906,\n",
       "  41360,\n",
       "  41842,\n",
       "  31930,\n",
       "  24305,\n",
       "  21416,\n",
       "  17945,\n",
       "  18004,\n",
       "  18743,\n",
       "  16501,\n",
       "  13839,\n",
       "  14356,\n",
       "  13352,\n",
       "  12702,\n",
       "  10951,\n",
       "  11276,\n",
       "  10590,\n",
       "  12599,\n",
       "  11469,\n",
       "  9853,\n",
       "  8616,\n",
       "  8821,\n",
       "  8867,\n",
       "  7075,\n",
       "  6873,\n",
       "  6619,\n",
       "  5590,\n",
       "  3810,\n",
       "  4201,\n",
       "  4314,\n",
       "  2767,\n",
       "  2750,\n",
       "  2849,\n",
       "  2396,\n",
       "  2523,\n",
       "  2618,\n",
       "  2163,\n",
       "  3319,\n",
       "  2010,\n",
       "  1801,\n",
       "  1628,\n",
       "  949,\n",
       "  1718,\n",
       "  1052,\n",
       "  1200,\n",
       "  1910,\n",
       "  1781,\n",
       "  2166,\n",
       "  2908,\n",
       "  2308,\n",
       "  1703,\n",
       "  1593,\n",
       "  1817,\n",
       "  991,\n",
       "  877,\n",
       "  924,\n",
       "  1296,\n",
       "  888,\n",
       "  658,\n",
       "  476,\n",
       "  503,\n",
       "  217,\n",
       "  154,\n",
       "  425,\n",
       "  197,\n",
       "  138,\n",
       "  211,\n",
       "  231,\n",
       "  205,\n",
       "  416,\n",
       "  848,\n",
       "  952,\n",
       "  648,\n",
       "  141,\n",
       "  428,\n",
       "  219,\n",
       "  196,\n",
       "  435,\n",
       "  863,\n",
       "  610,\n",
       "  75,\n",
       "  74,\n",
       "  82,\n",
       "  21,\n",
       "  64,\n",
       "  0,\n",
       "  20,\n",
       "  37,\n",
       "  0,\n",
       "  12,\n",
       "  0,\n",
       "  44,\n",
       "  48,\n",
       "  0,\n",
       "  471,\n",
       "  96,\n",
       "  5])"
      ]
     },
     "execution_count": 20,
     "metadata": {},
     "output_type": "execute_result"
    }
   ],
   "source": [
    "days_histogram"
   ]
  },
  {
   "cell_type": "code",
   "execution_count": 19,
   "id": "b53585b9",
   "metadata": {},
   "outputs": [],
   "source": [
    "import numpy as np"
   ]
  },
  {
   "cell_type": "code",
   "execution_count": 21,
   "id": "708c0046",
   "metadata": {},
   "outputs": [
    {
     "data": {
      "image/png": "[encoded data removed]",
      "text/plain": [
       "<Figure size 720x576 with 1 Axes>"
      ]
     },
     "metadata": {
      "needs_background": "light"
     },
     "output_type": "display_data"
    }
   ],
   "source": [
    "ax = pd.DataFrame(\n",
    "    list(zip(*days_histogram)), columns=['bin', 'frequency']\n",
    ").set_index(\n",
    "    'bin'\n",
    ").plot(kind='bar', figsize=(10,8))\n",
    "ax.set_yscale('log')\n",
    "ax.xaxis.set_major_locator(plt.MultipleLocator(10))\n",
    "ax.xaxis.set_major_formatter(plt.FuncFormatter(lambda x, tick_num: np.round(x, 2)))"
   ]
  },
  {
   "cell_type": "markdown",
   "id": "ae0dd99a",
   "metadata": {},
   "source": [
    "## Упражнение 4\n",
    "В файле \"lectures.csv\" хранится информация об лекциях. Объедините эту таблицу с основным набором данных при условии, что content_type_id == 1."
   ]
  },
  {
   "cell_type": "code",
   "execution_count": 23,
   "id": "698a1a76",
   "metadata": {},
   "outputs": [],
   "source": [
    "lectures = spark.read.csv(\"data/lectures.csv\", header=True, inferSchema=True)"
   ]
  },
  {
   "cell_type": "code",
   "execution_count": 24,
   "id": "2fe7f914",
   "metadata": {},
   "outputs": [],
   "source": [
    "lec_df = (\n",
    "    riiid_df\n",
    "        .where(f.col(\"content_type_id\") == 1)\n",
    "        .join(lectures, riiid_df.content_id == lectures.lecture_id, 'left')\n",
    ")"
   ]
  },
  {
   "cell_type": "code",
   "execution_count": 25,
   "id": "e7adba56",
   "metadata": {},
   "outputs": [
    {
     "name": "stdout",
     "output_type": "stream",
     "text": [
      "CPU times: user 9.28 ms, sys: 0 ns, total: 9.28 ms\n",
      "Wall time: 1.78 s\n"
     ]
    },
    {
     "data": {
      "application/vnd.microsoft.datawrangler.viewer.v0+json": {
       "columns": [
        {
         "name": "index",
         "rawType": "int64",
         "type": "integer"
        },
        {
         "name": "tag",
         "rawType": "int32",
         "type": "integer"
        },
        {
         "name": "count",
         "rawType": "int64",
         "type": "integer"
        }
       ],
       "ref": "d2ca8ffd-55b9-4127-aa85-c0a51fd0ec03",
       "rows": [
        [
         "0",
         "62",
         "601"
        ],
        [
         "1",
         "27",
         "553"
        ],
        [
         "2",
         "136",
         "420"
        ],
        [
         "3",
         "163",
         "400"
        ],
        [
         "4",
         "26",
         "393"
        ],
        [
         "5",
         "161",
         "392"
        ],
        [
         "6",
         "170",
         "376"
        ],
        [
         "7",
         "1",
         "351"
        ],
        [
         "8",
         "73",
         "337"
        ],
        [
         "9",
         "53",
         "321"
        ]
       ],
       "shape": {
        "columns": 2,
        "rows": 10
       }
      },
      "text/html": [
       "<div>\n",
       "<style scoped>\n",
       "    .dataframe tbody tr th:only-of-type {\n",
       "        vertical-align: middle;\n",
       "    }\n",
       "\n",
       "    .dataframe tbody tr th {\n",
       "        vertical-align: top;\n",
       "    }\n",
       "\n",
       "    .dataframe thead th {\n",
       "        text-align: right;\n",
       "    }\n",
       "</style>\n",
       "<table border=\"1\" class=\"dataframe\">\n",
       "  <thead>\n",
       "    <tr style=\"text-align: right;\">\n",
       "      <th></th>\n",
       "      <th>tag</th>\n",
       "      <th>count</th>\n",
       "    </tr>\n",
       "  </thead>\n",
       "  <tbody>\n",
       "    <tr>\n",
       "      <th>0</th>\n",
       "      <td>62</td>\n",
       "      <td>601</td>\n",
       "    </tr>\n",
       "    <tr>\n",
       "      <th>1</th>\n",
       "      <td>27</td>\n",
       "      <td>553</td>\n",
       "    </tr>\n",
       "    <tr>\n",
       "      <th>2</th>\n",
       "      <td>136</td>\n",
       "      <td>420</td>\n",
       "    </tr>\n",
       "    <tr>\n",
       "      <th>3</th>\n",
       "      <td>163</td>\n",
       "      <td>400</td>\n",
       "    </tr>\n",
       "    <tr>\n",
       "      <th>4</th>\n",
       "      <td>26</td>\n",
       "      <td>393</td>\n",
       "    </tr>\n",
       "    <tr>\n",
       "      <th>5</th>\n",
       "      <td>161</td>\n",
       "      <td>392</td>\n",
       "    </tr>\n",
       "    <tr>\n",
       "      <th>6</th>\n",
       "      <td>170</td>\n",
       "      <td>376</td>\n",
       "    </tr>\n",
       "    <tr>\n",
       "      <th>7</th>\n",
       "      <td>1</td>\n",
       "      <td>351</td>\n",
       "    </tr>\n",
       "    <tr>\n",
       "      <th>8</th>\n",
       "      <td>73</td>\n",
       "      <td>337</td>\n",
       "    </tr>\n",
       "    <tr>\n",
       "      <th>9</th>\n",
       "      <td>53</td>\n",
       "      <td>321</td>\n",
       "    </tr>\n",
       "  </tbody>\n",
       "</table>\n",
       "</div>"
      ],
      "text/plain": [
       "   tag  count\n",
       "0   62    601\n",
       "1   27    553\n",
       "2  136    420\n",
       "3  163    400\n",
       "4   26    393\n",
       "5  161    392\n",
       "6  170    376\n",
       "7    1    351\n",
       "8   73    337\n",
       "9   53    321"
      ]
     },
     "execution_count": 25,
     "metadata": {},
     "output_type": "execute_result"
    }
   ],
   "source": [
    "%%time\n",
    "(\n",
    "lec_df\n",
    "    .groupBy(\"tag\")\n",
    "    .count()\n",
    "    .orderBy(\"count\", ascending=False)\n",
    "    .limit(10)\n",
    "    .toPandas()\n",
    ")"
   ]
  },
  {
   "cell_type": "code",
   "execution_count": null,
   "id": "9cf5b4c9",
   "metadata": {},
   "outputs": [],
   "source": []
  }
 ],
 "metadata": {
  "kernelspec": {
   "display_name": "Python 3",
   "language": "python",
   "name": "python3"
  },
  "language_info": {
   "codemirror_mode": {
    "name": "ipython",
    "version": 3
   },
   "file_extension": ".py",
   "mimetype": "text/x-python",
   "name": "python",
   "nbconvert_exporter": "python",
   "pygments_lexer": "ipython3",
   "version": "3.8.10"
  }
 },
 "nbformat": 4,
 "nbformat_minor": 5
}
